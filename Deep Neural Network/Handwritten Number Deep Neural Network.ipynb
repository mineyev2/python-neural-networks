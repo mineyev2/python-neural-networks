{
 "cells": [
  {
   "cell_type": "code",
   "execution_count": 21,
   "metadata": {},
   "outputs": [],
   "source": [
    "import matplotlib.pyplot as plt\n",
    "import mnistload\n",
    "import numpy as np\n",
    "import random\n",
    "from PIL import Image\n",
    "\n",
    "import dnn_utils\n",
    "\n",
    "%matplotlib inline\n",
    "\n",
    "np.random.seed(0)"
   ]
  },
  {
   "cell_type": "code",
   "execution_count": 22,
   "metadata": {
    "scrolled": true
   },
   "outputs": [
    {
     "data": {
      "image/png": "[encoded data removed]",
      "text/plain": [
       "<Figure size 1152x288 with 16 Axes>"
      ]
     },
     "metadata": {
      "needs_background": "light"
     },
     "output_type": "display_data"
    }
   ],
   "source": [
    "#examples of what the images inside the mnist dataset look like\n",
    "\n",
    "data = mnistload.load_data()\n",
    "\n",
    "fig=plt.figure(figsize=(16, 4))\n",
    "\n",
    "training_data_examples, _, _ = data\n",
    "training_inputs_examples, _ = training_data_examples\n",
    "# print(training_inputs_examples)\n",
    "training_images_examples = [np.reshape(x, (28, 28)) for x in training_inputs_examples]\n",
    "\n",
    "indices = random.sample(range(50000), 16)\n",
    "for i in range(0, 16):\n",
    "    fig.add_subplot(2, 8, i + 1)\n",
    "    plt.imshow(training_images_examples[indices[i]], cmap='gray')\n",
    "    \n",
    "plt.show()"
   ]
  },
  {
   "cell_type": "code",
   "execution_count": 23,
   "metadata": {},
   "outputs": [],
   "source": [
    "mnist_data = mnistload.load_data()\n",
    "\n",
    "training_data, validation_data, test_data = mnist_data\n",
    "training_inputs, training_results = training_data\n",
    "X = training_inputs.T\n",
    "Y = np.reshape(np.array([mnistload.vectorized_result(y) for y in training_results]), (50000, 10)).T"
   ]
  },
  {
   "cell_type": "code",
   "execution_count": 24,
   "metadata": {
    "scrolled": false
   },
   "outputs": [
    {
     "name": "stdout",
     "output_type": "stream",
     "text": [
      "(10, 50000)\n",
      "[0. 1. 0. ... 0. 0. 0.]\n",
      "[0. 0. 0. ... 0. 0. 0.]\n",
      "[0. 0. 0. ... 0. 0. 0.]\n",
      "[0. 0. 0. ... 0. 0. 0.]\n",
      "[0. 0. 1. ... 0. 1. 0.]\n",
      "[1. 0. 0. ... 0. 0. 0.]\n",
      "[0. 0. 0. ... 0. 0. 0.]\n",
      "[0. 0. 0. ... 0. 0. 0.]\n",
      "[0. 0. 0. ... 1. 0. 1.]\n",
      "[0. 0. 0. ... 0. 0. 0.]\n"
     ]
    },
    {
     "data": {
      "text/plain": [
       "'\\nfor i in range(X.shape[0]):\\n    print(X[i])\\n    \\n'"
      ]
     },
     "execution_count": 24,
     "metadata": {},
     "output_type": "execute_result"
    }
   ],
   "source": [
    "print(Y.shape)\n",
    "for i in range(Y.shape[0]):\n",
    "    print(Y[i])\n",
    "'''\n",
    "for i in range(X.shape[0]):\n",
    "    print(X[i])\n",
    "    \n",
    "'''"
   ]
  },
  {
   "cell_type": "code",
   "execution_count": null,
   "metadata": {},
   "outputs": [
    {
     "name": "stdout",
     "output_type": "stream",
     "text": [
      "cost after 100 iterations: 0.47424783934165377\n",
      "cost after 200 iterations: 0.4742478392100762\n",
      "cost after 300 iterations: 0.47424783907870127\n",
      "cost after 400 iterations: 0.4742478389475277\n"
     ]
    }
   ],
   "source": [
    "mnist_net = dnn_utils.Network([784, 30, 10])\n",
    "mnist_net.train_model(X, Y, 5000, 3)\n",
    "\n",
    "for i in range(mnist_net.train_AL.shape[0]):\n",
    "    print(mnist_net.train_AL[i])"
   ]
  },
  {
   "cell_type": "code",
   "execution_count": null,
   "metadata": {},
   "outputs": [],
   "source": [
    "testing_inputs, testing_results = test_data\n",
    "X_test = testing_inputs.T\n",
    "Y_test = np.reshape(np.array([mnistload.vectorized_result(y) for y in testing_results]), (10000, 10)).T\n",
    "mnist_net.test_model(X_test, Y_test)"
   ]
  },
  {
   "cell_type": "code",
   "execution_count": null,
   "metadata": {},
   "outputs": [],
   "source": [
    "print(mnist_net.test_accuracy)"
   ]
  },
  {
   "cell_type": "code",
   "execution_count": null,
   "metadata": {},
   "outputs": [],
   "source": []
  }
 ],
 "metadata": {
  "kernelspec": {
   "display_name": "Python 3",
   "language": "python",
   "name": "python3"
  },
  "language_info": {
   "codemirror_mode": {
    "name": "ipython",
    "version": 3
   },
   "file_extension": ".py",
   "mimetype": "text/x-python",
   "name": "python",
   "nbconvert_exporter": "python",
   "pygments_lexer": "ipython3",
   "version": "3.7.3"
  }
 },
 "nbformat": 4,
 "nbformat_minor": 2
}
